{
 "cells": [
  {
   "cell_type": "code",
   "execution_count": 1,
   "id": "abb88c98",
   "metadata": {},
   "outputs": [],
   "source": [
    "import pandas as pd\n",
    "import numpy as np\n",
    "\n",
    "from modules.seed_germination_parameters import MGT, GP, Z\n",
    "from modules.stat_test import tStudent_test, Mann_Whitney_U_test"
   ]
  },
  {
   "cell_type": "code",
   "execution_count": 2,
   "id": "4f6132e5",
   "metadata": {},
   "outputs": [
    {
     "data": {
      "text/html": [
       "<div>\n",
       "<style scoped>\n",
       "    .dataframe tbody tr th:only-of-type {\n",
       "        vertical-align: middle;\n",
       "    }\n",
       "\n",
       "    .dataframe tbody tr th {\n",
       "        vertical-align: top;\n",
       "    }\n",
       "\n",
       "    .dataframe thead th {\n",
       "        text-align: right;\n",
       "    }\n",
       "</style>\n",
       "<table border=\"1\" class=\"dataframe\">\n",
       "  <thead>\n",
       "    <tr style=\"text-align: right;\">\n",
       "      <th></th>\n",
       "      <th>2022-03-03 00:00:00</th>\n",
       "      <th>2022-03-04 00:00:00</th>\n",
       "      <th>2022-03-05 00:00:00</th>\n",
       "      <th>2022-03-06 00:00:00</th>\n",
       "      <th>2022-03-07 00:00:00</th>\n",
       "      <th>2022-03-08 00:00:00</th>\n",
       "      <th>2022-03-09 00:00:00</th>\n",
       "      <th>2022-03-10 00:00:00</th>\n",
       "      <th>2022-03-11 00:00:00</th>\n",
       "      <th>2022-03-12 00:00:00</th>\n",
       "      <th>...</th>\n",
       "      <th>2022-03-22 00:00:00</th>\n",
       "      <th>2022-03-23 00:00:00</th>\n",
       "      <th>2022-03-24 00:00:00</th>\n",
       "      <th>2022-03-25 00:00:00</th>\n",
       "      <th>2022-03-26 00:00:00</th>\n",
       "      <th>2022-03-27 00:00:00</th>\n",
       "      <th>2022-03-28 00:00:00</th>\n",
       "      <th>2022-03-29 00:00:00</th>\n",
       "      <th>2022-03-30 00:00:00</th>\n",
       "      <th>2022-03-31 00:00:00</th>\n",
       "    </tr>\n",
       "  </thead>\n",
       "  <tbody>\n",
       "    <tr>\n",
       "      <th>0</th>\n",
       "      <td>0</td>\n",
       "      <td>0</td>\n",
       "      <td>0</td>\n",
       "      <td>2</td>\n",
       "      <td>5</td>\n",
       "      <td>3</td>\n",
       "      <td>0</td>\n",
       "      <td>0</td>\n",
       "      <td>0</td>\n",
       "      <td>1</td>\n",
       "      <td>...</td>\n",
       "      <td>4.0</td>\n",
       "      <td>3.0</td>\n",
       "      <td>0.0</td>\n",
       "      <td>3.0</td>\n",
       "      <td>2.0</td>\n",
       "      <td>0.0</td>\n",
       "      <td>2.0</td>\n",
       "      <td>0.0</td>\n",
       "      <td>0.0</td>\n",
       "      <td>0.0</td>\n",
       "    </tr>\n",
       "    <tr>\n",
       "      <th>1</th>\n",
       "      <td>0</td>\n",
       "      <td>0</td>\n",
       "      <td>0</td>\n",
       "      <td>1</td>\n",
       "      <td>5</td>\n",
       "      <td>5</td>\n",
       "      <td>0</td>\n",
       "      <td>0</td>\n",
       "      <td>0</td>\n",
       "      <td>0</td>\n",
       "      <td>...</td>\n",
       "      <td>4.0</td>\n",
       "      <td>1.0</td>\n",
       "      <td>3.0</td>\n",
       "      <td>3.0</td>\n",
       "      <td>1.0</td>\n",
       "      <td>1.0</td>\n",
       "      <td>0.0</td>\n",
       "      <td>0.0</td>\n",
       "      <td>0.0</td>\n",
       "      <td>1.0</td>\n",
       "    </tr>\n",
       "    <tr>\n",
       "      <th>2</th>\n",
       "      <td>0</td>\n",
       "      <td>0</td>\n",
       "      <td>1</td>\n",
       "      <td>5</td>\n",
       "      <td>7</td>\n",
       "      <td>3</td>\n",
       "      <td>1</td>\n",
       "      <td>0</td>\n",
       "      <td>1</td>\n",
       "      <td>2</td>\n",
       "      <td>...</td>\n",
       "      <td>0.0</td>\n",
       "      <td>0.0</td>\n",
       "      <td>0.0</td>\n",
       "      <td>0.0</td>\n",
       "      <td>0.0</td>\n",
       "      <td>0.0</td>\n",
       "      <td>0.0</td>\n",
       "      <td>0.0</td>\n",
       "      <td>0.0</td>\n",
       "      <td>0.0</td>\n",
       "    </tr>\n",
       "    <tr>\n",
       "      <th>3</th>\n",
       "      <td>0</td>\n",
       "      <td>0</td>\n",
       "      <td>0</td>\n",
       "      <td>4</td>\n",
       "      <td>11</td>\n",
       "      <td>5</td>\n",
       "      <td>0</td>\n",
       "      <td>2</td>\n",
       "      <td>0</td>\n",
       "      <td>1</td>\n",
       "      <td>...</td>\n",
       "      <td>0.0</td>\n",
       "      <td>0.0</td>\n",
       "      <td>0.0</td>\n",
       "      <td>0.0</td>\n",
       "      <td>0.0</td>\n",
       "      <td>0.0</td>\n",
       "      <td>0.0</td>\n",
       "      <td>0.0</td>\n",
       "      <td>1.0</td>\n",
       "      <td>0.0</td>\n",
       "    </tr>\n",
       "    <tr>\n",
       "      <th>4</th>\n",
       "      <td>0</td>\n",
       "      <td>0</td>\n",
       "      <td>0</td>\n",
       "      <td>0</td>\n",
       "      <td>7</td>\n",
       "      <td>12</td>\n",
       "      <td>7</td>\n",
       "      <td>5</td>\n",
       "      <td>5</td>\n",
       "      <td>1</td>\n",
       "      <td>...</td>\n",
       "      <td>1.0</td>\n",
       "      <td>0.0</td>\n",
       "      <td>0.0</td>\n",
       "      <td>0.0</td>\n",
       "      <td>1.0</td>\n",
       "      <td>0.0</td>\n",
       "      <td>0.0</td>\n",
       "      <td>0.0</td>\n",
       "      <td>1.0</td>\n",
       "      <td>0.0</td>\n",
       "    </tr>\n",
       "  </tbody>\n",
       "</table>\n",
       "<p>5 rows × 29 columns</p>\n",
       "</div>"
      ],
      "text/plain": [
       "   2022-03-03 00:00:00  2022-03-04 00:00:00  2022-03-05 00:00:00  \\\n",
       "0                    0                    0                    0   \n",
       "1                    0                    0                    0   \n",
       "2                    0                    0                    1   \n",
       "3                    0                    0                    0   \n",
       "4                    0                    0                    0   \n",
       "\n",
       "   2022-03-06 00:00:00  2022-03-07 00:00:00  2022-03-08 00:00:00  \\\n",
       "0                    2                    5                    3   \n",
       "1                    1                    5                    5   \n",
       "2                    5                    7                    3   \n",
       "3                    4                   11                    5   \n",
       "4                    0                    7                   12   \n",
       "\n",
       "   2022-03-09 00:00:00  2022-03-10 00:00:00  2022-03-11 00:00:00  \\\n",
       "0                    0                    0                    0   \n",
       "1                    0                    0                    0   \n",
       "2                    1                    0                    1   \n",
       "3                    0                    2                    0   \n",
       "4                    7                    5                    5   \n",
       "\n",
       "   2022-03-12 00:00:00  ...  2022-03-22 00:00:00  2022-03-23 00:00:00  \\\n",
       "0                    1  ...                  4.0                  3.0   \n",
       "1                    0  ...                  4.0                  1.0   \n",
       "2                    2  ...                  0.0                  0.0   \n",
       "3                    1  ...                  0.0                  0.0   \n",
       "4                    1  ...                  1.0                  0.0   \n",
       "\n",
       "   2022-03-24 00:00:00  2022-03-25 00:00:00  2022-03-26 00:00:00  \\\n",
       "0                  0.0                  3.0                  2.0   \n",
       "1                  3.0                  3.0                  1.0   \n",
       "2                  0.0                  0.0                  0.0   \n",
       "3                  0.0                  0.0                  0.0   \n",
       "4                  0.0                  0.0                  1.0   \n",
       "\n",
       "   2022-03-27 00:00:00  2022-03-28 00:00:00  2022-03-29 00:00:00  \\\n",
       "0                  0.0                  2.0                  0.0   \n",
       "1                  1.0                  0.0                  0.0   \n",
       "2                  0.0                  0.0                  0.0   \n",
       "3                  0.0                  0.0                  0.0   \n",
       "4                  0.0                  0.0                  0.0   \n",
       "\n",
       "   2022-03-30 00:00:00  2022-03-31 00:00:00  \n",
       "0                  0.0                  0.0  \n",
       "1                  0.0                  1.0  \n",
       "2                  0.0                  0.0  \n",
       "3                  1.0                  0.0  \n",
       "4                  1.0                  0.0  \n",
       "\n",
       "[5 rows x 29 columns]"
      ]
     },
     "execution_count": 2,
     "metadata": {},
     "output_type": "execute_result"
    }
   ],
   "source": [
    "heap_data = pd.read_csv('heap.csv')\n",
    "heap_data.drop('target', axis=1, inplace=True)\n",
    "heap_data.head()"
   ]
  },
  {
   "cell_type": "code",
   "execution_count": 3,
   "id": "d94403fa",
   "metadata": {},
   "outputs": [],
   "source": [
    "heap_data.fillna(0, axis=1, inplace=True)"
   ]
  },
  {
   "cell_type": "code",
   "execution_count": 4,
   "id": "2b994fa1",
   "metadata": {},
   "outputs": [
    {
     "data": {
      "text/html": [
       "<div>\n",
       "<style scoped>\n",
       "    .dataframe tbody tr th:only-of-type {\n",
       "        vertical-align: middle;\n",
       "    }\n",
       "\n",
       "    .dataframe tbody tr th {\n",
       "        vertical-align: top;\n",
       "    }\n",
       "\n",
       "    .dataframe thead th {\n",
       "        text-align: right;\n",
       "    }\n",
       "</style>\n",
       "<table border=\"1\" class=\"dataframe\">\n",
       "  <thead>\n",
       "    <tr style=\"text-align: right;\">\n",
       "      <th></th>\n",
       "      <th>2022-03-03 00:00:00</th>\n",
       "      <th>2022-03-04 00:00:00</th>\n",
       "      <th>2022-03-05 00:00:00</th>\n",
       "      <th>2022-03-06 00:00:00</th>\n",
       "      <th>2022-03-07 00:00:00</th>\n",
       "      <th>2022-03-08 00:00:00</th>\n",
       "      <th>2022-03-09 00:00:00</th>\n",
       "      <th>2022-03-10 00:00:00</th>\n",
       "      <th>2022-03-11 00:00:00</th>\n",
       "      <th>2022-03-12 00:00:00</th>\n",
       "      <th>...</th>\n",
       "      <th>2022-03-22 00:00:00</th>\n",
       "      <th>2022-03-23 00:00:00</th>\n",
       "      <th>2022-03-24 00:00:00</th>\n",
       "      <th>2022-03-25 00:00:00</th>\n",
       "      <th>2022-03-26 00:00:00</th>\n",
       "      <th>2022-03-27 00:00:00</th>\n",
       "      <th>2022-03-28 00:00:00</th>\n",
       "      <th>2022-03-29 00:00:00</th>\n",
       "      <th>2022-03-30 00:00:00</th>\n",
       "      <th>2022-03-31 00:00:00</th>\n",
       "    </tr>\n",
       "  </thead>\n",
       "  <tbody>\n",
       "    <tr>\n",
       "      <th>0</th>\n",
       "      <td>0</td>\n",
       "      <td>0</td>\n",
       "      <td>0</td>\n",
       "      <td>0</td>\n",
       "      <td>1</td>\n",
       "      <td>5</td>\n",
       "      <td>6</td>\n",
       "      <td>2</td>\n",
       "      <td>3</td>\n",
       "      <td>4</td>\n",
       "      <td>...</td>\n",
       "      <td>0.0</td>\n",
       "      <td>0.0</td>\n",
       "      <td>0.0</td>\n",
       "      <td>2.0</td>\n",
       "      <td>1.0</td>\n",
       "      <td>1.0</td>\n",
       "      <td>3.0</td>\n",
       "      <td>1.0</td>\n",
       "      <td>0.0</td>\n",
       "      <td>1.0</td>\n",
       "    </tr>\n",
       "    <tr>\n",
       "      <th>1</th>\n",
       "      <td>0</td>\n",
       "      <td>0</td>\n",
       "      <td>0</td>\n",
       "      <td>0</td>\n",
       "      <td>0</td>\n",
       "      <td>6</td>\n",
       "      <td>3</td>\n",
       "      <td>3</td>\n",
       "      <td>2</td>\n",
       "      <td>3</td>\n",
       "      <td>...</td>\n",
       "      <td>1.0</td>\n",
       "      <td>0.0</td>\n",
       "      <td>2.0</td>\n",
       "      <td>1.0</td>\n",
       "      <td>2.0</td>\n",
       "      <td>2.0</td>\n",
       "      <td>3.0</td>\n",
       "      <td>0.0</td>\n",
       "      <td>0.0</td>\n",
       "      <td>0.0</td>\n",
       "    </tr>\n",
       "    <tr>\n",
       "      <th>2</th>\n",
       "      <td>0</td>\n",
       "      <td>0</td>\n",
       "      <td>0</td>\n",
       "      <td>0</td>\n",
       "      <td>1</td>\n",
       "      <td>4</td>\n",
       "      <td>1</td>\n",
       "      <td>3</td>\n",
       "      <td>2</td>\n",
       "      <td>1</td>\n",
       "      <td>...</td>\n",
       "      <td>0.0</td>\n",
       "      <td>1.0</td>\n",
       "      <td>0.0</td>\n",
       "      <td>2.0</td>\n",
       "      <td>4.0</td>\n",
       "      <td>3.0</td>\n",
       "      <td>0.0</td>\n",
       "      <td>1.0</td>\n",
       "      <td>1.0</td>\n",
       "      <td>2.0</td>\n",
       "    </tr>\n",
       "    <tr>\n",
       "      <th>3</th>\n",
       "      <td>0</td>\n",
       "      <td>0</td>\n",
       "      <td>0</td>\n",
       "      <td>0</td>\n",
       "      <td>0</td>\n",
       "      <td>4</td>\n",
       "      <td>3</td>\n",
       "      <td>2</td>\n",
       "      <td>4</td>\n",
       "      <td>3</td>\n",
       "      <td>...</td>\n",
       "      <td>0.0</td>\n",
       "      <td>2.0</td>\n",
       "      <td>2.0</td>\n",
       "      <td>2.0</td>\n",
       "      <td>1.0</td>\n",
       "      <td>0.0</td>\n",
       "      <td>0.0</td>\n",
       "      <td>1.0</td>\n",
       "      <td>1.0</td>\n",
       "      <td>0.0</td>\n",
       "    </tr>\n",
       "    <tr>\n",
       "      <th>4</th>\n",
       "      <td>0</td>\n",
       "      <td>0</td>\n",
       "      <td>1</td>\n",
       "      <td>0</td>\n",
       "      <td>0</td>\n",
       "      <td>4</td>\n",
       "      <td>5</td>\n",
       "      <td>3</td>\n",
       "      <td>4</td>\n",
       "      <td>4</td>\n",
       "      <td>...</td>\n",
       "      <td>0.0</td>\n",
       "      <td>0.0</td>\n",
       "      <td>0.0</td>\n",
       "      <td>0.0</td>\n",
       "      <td>1.0</td>\n",
       "      <td>1.0</td>\n",
       "      <td>0.0</td>\n",
       "      <td>0.0</td>\n",
       "      <td>0.0</td>\n",
       "      <td>1.0</td>\n",
       "    </tr>\n",
       "  </tbody>\n",
       "</table>\n",
       "<p>5 rows × 29 columns</p>\n",
       "</div>"
      ],
      "text/plain": [
       "   2022-03-03 00:00:00  2022-03-04 00:00:00  2022-03-05 00:00:00  \\\n",
       "0                    0                    0                    0   \n",
       "1                    0                    0                    0   \n",
       "2                    0                    0                    0   \n",
       "3                    0                    0                    0   \n",
       "4                    0                    0                    1   \n",
       "\n",
       "   2022-03-06 00:00:00  2022-03-07 00:00:00  2022-03-08 00:00:00  \\\n",
       "0                    0                    1                    5   \n",
       "1                    0                    0                    6   \n",
       "2                    0                    1                    4   \n",
       "3                    0                    0                    4   \n",
       "4                    0                    0                    4   \n",
       "\n",
       "   2022-03-09 00:00:00  2022-03-10 00:00:00  2022-03-11 00:00:00  \\\n",
       "0                    6                    2                    3   \n",
       "1                    3                    3                    2   \n",
       "2                    1                    3                    2   \n",
       "3                    3                    2                    4   \n",
       "4                    5                    3                    4   \n",
       "\n",
       "   2022-03-12 00:00:00  ...  2022-03-22 00:00:00  2022-03-23 00:00:00  \\\n",
       "0                    4  ...                  0.0                  0.0   \n",
       "1                    3  ...                  1.0                  0.0   \n",
       "2                    1  ...                  0.0                  1.0   \n",
       "3                    3  ...                  0.0                  2.0   \n",
       "4                    4  ...                  0.0                  0.0   \n",
       "\n",
       "   2022-03-24 00:00:00  2022-03-25 00:00:00  2022-03-26 00:00:00  \\\n",
       "0                  0.0                  2.0                  1.0   \n",
       "1                  2.0                  1.0                  2.0   \n",
       "2                  0.0                  2.0                  4.0   \n",
       "3                  2.0                  2.0                  1.0   \n",
       "4                  0.0                  0.0                  1.0   \n",
       "\n",
       "   2022-03-27 00:00:00  2022-03-28 00:00:00  2022-03-29 00:00:00  \\\n",
       "0                  1.0                  3.0                  1.0   \n",
       "1                  2.0                  3.0                  0.0   \n",
       "2                  3.0                  0.0                  1.0   \n",
       "3                  0.0                  0.0                  1.0   \n",
       "4                  1.0                  0.0                  0.0   \n",
       "\n",
       "   2022-03-30 00:00:00  2022-03-31 00:00:00  \n",
       "0                  0.0                  1.0  \n",
       "1                  0.0                  0.0  \n",
       "2                  1.0                  2.0  \n",
       "3                  1.0                  0.0  \n",
       "4                  0.0                  1.0  \n",
       "\n",
       "[5 rows x 29 columns]"
      ]
     },
     "execution_count": 4,
     "metadata": {},
     "output_type": "execute_result"
    }
   ],
   "source": [
    "post_agricultural_data = pd.read_csv('post_agricultural.csv')\n",
    "post_agricultural_data.drop('target', axis=1, inplace=True)\n",
    "post_agricultural_data.head()"
   ]
  },
  {
   "cell_type": "code",
   "execution_count": 5,
   "id": "613f0c4f",
   "metadata": {},
   "outputs": [],
   "source": [
    "post_agricultural_data.fillna(0, axis=1, inplace=True)"
   ]
  },
  {
   "cell_type": "markdown",
   "id": "0398cf0b",
   "metadata": {},
   "source": [
    "## Seeds collected on a heap"
   ]
  },
  {
   "cell_type": "code",
   "execution_count": 6,
   "id": "e0944582",
   "metadata": {},
   "outputs": [
    {
     "data": {
      "text/plain": [
       "6.772985244040862"
      ]
     },
     "execution_count": 6,
     "metadata": {},
     "output_type": "execute_result"
    }
   ],
   "source": [
    "mgt_heap = MGT(heap_data)\n",
    "mgt_heap"
   ]
  },
  {
   "cell_type": "code",
   "execution_count": 7,
   "id": "156c30a8",
   "metadata": {},
   "outputs": [
    {
     "name": "stdout",
     "output_type": "stream",
     "text": [
      "Ng = 1762.0\n"
     ]
    },
    {
     "data": {
      "text/plain": [
       "88.144072036018"
      ]
     },
     "execution_count": 7,
     "metadata": {},
     "output_type": "execute_result"
    }
   ],
   "source": [
    "gp_heap = GP(heap_data, 1999)\n",
    "gp_heap"
   ]
  },
  {
   "cell_type": "code",
   "execution_count": 8,
   "id": "d88c5bda",
   "metadata": {},
   "outputs": [
    {
     "data": {
      "text/plain": [
       "0.16959394524187513"
      ]
     },
     "execution_count": 8,
     "metadata": {},
     "output_type": "execute_result"
    }
   ],
   "source": [
    "z_heap = Z(heap_data)\n",
    "z_heap"
   ]
  },
  {
   "cell_type": "markdown",
   "id": "275f08f0",
   "metadata": {},
   "source": [
    "## Seeds collected on a post-agricultural area"
   ]
  },
  {
   "cell_type": "code",
   "execution_count": 9,
   "id": "a764a6a9",
   "metadata": {},
   "outputs": [
    {
     "data": {
      "text/plain": [
       "10.962828649138713"
      ]
     },
     "execution_count": 9,
     "metadata": {},
     "output_type": "execute_result"
    }
   ],
   "source": [
    "mgt_post_agricultural = MGT(post_agricultural_data)\n",
    "mgt_post_agricultural"
   ]
  },
  {
   "cell_type": "code",
   "execution_count": 10,
   "id": "22de8009",
   "metadata": {},
   "outputs": [
    {
     "name": "stdout",
     "output_type": "stream",
     "text": [
      "Ng = 1103.0\n"
     ]
    },
    {
     "data": {
      "text/plain": [
       "61.38007790762382"
      ]
     },
     "execution_count": 10,
     "metadata": {},
     "output_type": "execute_result"
    }
   ],
   "source": [
    "gp_post_agricultural = GP(post_agricultural_data, 1797)\n",
    "gp_post_agricultural"
   ]
  },
  {
   "cell_type": "code",
   "execution_count": 11,
   "id": "ecf43556",
   "metadata": {},
   "outputs": [
    {
     "data": {
      "text/plain": [
       "0.0921377599123328"
      ]
     },
     "execution_count": 11,
     "metadata": {},
     "output_type": "execute_result"
    }
   ],
   "source": [
    "z_post_agricultural = Z(post_agricultural_data)\n",
    "z_post_agricultural"
   ]
  }
 ],
 "metadata": {
  "kernelspec": {
   "display_name": "Python 3 (ipykernel)",
   "language": "python",
   "name": "python3"
  },
  "language_info": {
   "codemirror_mode": {
    "name": "ipython",
    "version": 3
   },
   "file_extension": ".py",
   "mimetype": "text/x-python",
   "name": "python",
   "nbconvert_exporter": "python",
   "pygments_lexer": "ipython3",
   "version": "3.9.13"
  }
 },
 "nbformat": 4,
 "nbformat_minor": 5
}
